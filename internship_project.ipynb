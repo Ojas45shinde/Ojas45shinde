{
  "cells": [
    {
      "cell_type": "markdown",
      "metadata": {
        "id": "view-in-github",
        "colab_type": "text"
      },
      "source": [
        "<a href=\"https://colab.research.google.com/github/Ojas45shinde/Ojas45shinde/blob/main/internship_project.ipynb\" target=\"_parent\"><img src=\"https://colab.research.google.com/assets/colab-badge.svg\" alt=\"Open In Colab\"/></a>"
      ]
    },
    {
      "cell_type": "markdown",
      "source": [
        "**TITLE :**\n",
        "**INTERNSHIP PROJECT** <br>\n",
        "AIM :\n",
        "SUPERVISED MACHINE LEARNING MODEL FOR THE CLASSIFICATION\n"
      ],
      "metadata": {
        "id": "ho_GCjRJ2-bT"
      },
      "id": "ho_GCjRJ2-bT"
    },
    {
      "cell_type": "markdown",
      "source": [
        "**IMPORTING NECCESSARY LIBRARIES**"
      ],
      "metadata": {
        "id": "lYWVv5mr4AMF"
      },
      "id": "lYWVv5mr4AMF"
    },
    {
      "cell_type": "code",
      "execution_count": null,
      "id": "2dcc8827-e1f6-4bf0-8fea-1af8a501fb14",
      "metadata": {
        "id": "2dcc8827-e1f6-4bf0-8fea-1af8a501fb14"
      },
      "outputs": [],
      "source": [
        "import pandas as pd\n",
        "import numpy as np\n",
        "import matplotlib.pyplot as plt\n",
        "import seaborn as sns\n",
        "import sklearn as sks\n",
        "from sklearn.metrics import mean_squared_error,r2_score,mean_absolute_error\n",
        "from sklearn.neighbors import KNeighborsRegressor\n",
        "from sklearn.tree import DecisionTreeRegressor\n",
        "from sklearn.ensemble import RandomForestRegressor, AdaBoostRegressor\n",
        "from sklearn.linear_model import LinearRegression,Ridge,Lasso\n",
        "from sklearn.metrics import mean_squared_error,r2_score,mean_absolute_error\n",
        "from sklearn.model_selection import RandomizedSearchCV"
      ]
    },
    {
      "cell_type": "markdown",
      "source": [
        "**LOADING DATASET**"
      ],
      "metadata": {
        "id": "sNaLiqO94IaT"
      },
      "id": "sNaLiqO94IaT"
    },
    {
      "cell_type": "code",
      "execution_count": null,
      "id": "634c6591-b605-4bbd-a49b-e94962f8a806",
      "metadata": {
        "id": "634c6591-b605-4bbd-a49b-e94962f8a806"
      },
      "outputs": [],
      "source": [
        "df=pd.read_csv(\"C:/Users/acer/Desktop/jupyter/StudentsPerformance_3.csv\")"
      ]
    },
    {
      "cell_type": "markdown",
      "id": "2e551458-f96a-4a68-9824-6ba50281e220",
      "metadata": {
        "id": "2e551458-f96a-4a68-9824-6ba50281e220"
      },
      "source": [
        "**SHOWING TOP 5 RECORDS**"
      ]
    },
    {
      "cell_type": "code",
      "execution_count": null,
      "id": "63da5ca4-2a1d-4d3b-8877-e1cccb6078ee",
      "metadata": {
        "id": "63da5ca4-2a1d-4d3b-8877-e1cccb6078ee",
        "outputId": "67ba2f25-7bcb-4faf-b1c3-ee702b8e422f"
      },
      "outputs": [
        {
          "data": {
            "text/html": [
              "<div>\n",
              "<style scoped>\n",
              "    .dataframe tbody tr th:only-of-type {\n",
              "        vertical-align: middle;\n",
              "    }\n",
              "\n",
              "    .dataframe tbody tr th {\n",
              "        vertical-align: top;\n",
              "    }\n",
              "\n",
              "    .dataframe thead th {\n",
              "        text-align: right;\n",
              "    }\n",
              "</style>\n",
              "<table border=\"1\" class=\"dataframe\">\n",
              "  <thead>\n",
              "    <tr style=\"text-align: right;\">\n",
              "      <th></th>\n",
              "      <th>gender</th>\n",
              "      <th>race/ethnicity</th>\n",
              "      <th>parental level of education</th>\n",
              "      <th>lunch</th>\n",
              "      <th>test preparation course</th>\n",
              "      <th>math score</th>\n",
              "      <th>reading score</th>\n",
              "      <th>writing score</th>\n",
              "    </tr>\n",
              "  </thead>\n",
              "  <tbody>\n",
              "    <tr>\n",
              "      <th>0</th>\n",
              "      <td>female</td>\n",
              "      <td>group B</td>\n",
              "      <td>bachelor's degree</td>\n",
              "      <td>standard</td>\n",
              "      <td>none</td>\n",
              "      <td>72</td>\n",
              "      <td>72</td>\n",
              "      <td>74</td>\n",
              "    </tr>\n",
              "    <tr>\n",
              "      <th>1</th>\n",
              "      <td>female</td>\n",
              "      <td>group C</td>\n",
              "      <td>some college</td>\n",
              "      <td>standard</td>\n",
              "      <td>completed</td>\n",
              "      <td>69</td>\n",
              "      <td>90</td>\n",
              "      <td>88</td>\n",
              "    </tr>\n",
              "    <tr>\n",
              "      <th>2</th>\n",
              "      <td>female</td>\n",
              "      <td>group B</td>\n",
              "      <td>master's degree</td>\n",
              "      <td>standard</td>\n",
              "      <td>none</td>\n",
              "      <td>90</td>\n",
              "      <td>95</td>\n",
              "      <td>93</td>\n",
              "    </tr>\n",
              "    <tr>\n",
              "      <th>3</th>\n",
              "      <td>male</td>\n",
              "      <td>group A</td>\n",
              "      <td>associate's degree</td>\n",
              "      <td>free/reduced</td>\n",
              "      <td>none</td>\n",
              "      <td>47</td>\n",
              "      <td>57</td>\n",
              "      <td>44</td>\n",
              "    </tr>\n",
              "    <tr>\n",
              "      <th>4</th>\n",
              "      <td>male</td>\n",
              "      <td>group C</td>\n",
              "      <td>some college</td>\n",
              "      <td>standard</td>\n",
              "      <td>none</td>\n",
              "      <td>76</td>\n",
              "      <td>78</td>\n",
              "      <td>75</td>\n",
              "    </tr>\n",
              "  </tbody>\n",
              "</table>\n",
              "</div>"
            ],
            "text/plain": [
              "   gender race/ethnicity parental level of education         lunch  \\\n",
              "0  female        group B           bachelor's degree      standard   \n",
              "1  female        group C                some college      standard   \n",
              "2  female        group B             master's degree      standard   \n",
              "3    male        group A          associate's degree  free/reduced   \n",
              "4    male        group C                some college      standard   \n",
              "\n",
              "  test preparation course  math score  reading score  writing score  \n",
              "0                    none          72             72             74  \n",
              "1               completed          69             90             88  \n",
              "2                    none          90             95             93  \n",
              "3                    none          47             57             44  \n",
              "4                    none          76             78             75  "
            ]
          },
          "execution_count": 3,
          "metadata": {},
          "output_type": "execute_result"
        }
      ],
      "source": [
        "df.head()"
      ]
    },
    {
      "cell_type": "code",
      "execution_count": null,
      "id": "0bcce943-a3ef-46b2-abb0-e2f507a1e257",
      "metadata": {
        "id": "0bcce943-a3ef-46b2-abb0-e2f507a1e257"
      },
      "outputs": [],
      "source": [
        "X=df.drop(columns=[\"math score\"],axis=1)"
      ]
    },
    {
      "cell_type": "code",
      "execution_count": null,
      "id": "15b38120-68d8-4494-8281-c1d275997d5d",
      "metadata": {
        "id": "15b38120-68d8-4494-8281-c1d275997d5d",
        "outputId": "176f0020-b4bf-4f36-bd71-dba640c27ac5"
      },
      "outputs": [
        {
          "data": {
            "text/html": [
              "<div>\n",
              "<style scoped>\n",
              "    .dataframe tbody tr th:only-of-type {\n",
              "        vertical-align: middle;\n",
              "    }\n",
              "\n",
              "    .dataframe tbody tr th {\n",
              "        vertical-align: top;\n",
              "    }\n",
              "\n",
              "    .dataframe thead th {\n",
              "        text-align: right;\n",
              "    }\n",
              "</style>\n",
              "<table border=\"1\" class=\"dataframe\">\n",
              "  <thead>\n",
              "    <tr style=\"text-align: right;\">\n",
              "      <th></th>\n",
              "      <th>gender</th>\n",
              "      <th>race/ethnicity</th>\n",
              "      <th>parental level of education</th>\n",
              "      <th>lunch</th>\n",
              "      <th>test preparation course</th>\n",
              "      <th>reading score</th>\n",
              "      <th>writing score</th>\n",
              "    </tr>\n",
              "  </thead>\n",
              "  <tbody>\n",
              "    <tr>\n",
              "      <th>0</th>\n",
              "      <td>female</td>\n",
              "      <td>group B</td>\n",
              "      <td>bachelor's degree</td>\n",
              "      <td>standard</td>\n",
              "      <td>none</td>\n",
              "      <td>72</td>\n",
              "      <td>74</td>\n",
              "    </tr>\n",
              "    <tr>\n",
              "      <th>1</th>\n",
              "      <td>female</td>\n",
              "      <td>group C</td>\n",
              "      <td>some college</td>\n",
              "      <td>standard</td>\n",
              "      <td>completed</td>\n",
              "      <td>90</td>\n",
              "      <td>88</td>\n",
              "    </tr>\n",
              "    <tr>\n",
              "      <th>2</th>\n",
              "      <td>female</td>\n",
              "      <td>group B</td>\n",
              "      <td>master's degree</td>\n",
              "      <td>standard</td>\n",
              "      <td>none</td>\n",
              "      <td>95</td>\n",
              "      <td>93</td>\n",
              "    </tr>\n",
              "    <tr>\n",
              "      <th>3</th>\n",
              "      <td>male</td>\n",
              "      <td>group A</td>\n",
              "      <td>associate's degree</td>\n",
              "      <td>free/reduced</td>\n",
              "      <td>none</td>\n",
              "      <td>57</td>\n",
              "      <td>44</td>\n",
              "    </tr>\n",
              "    <tr>\n",
              "      <th>4</th>\n",
              "      <td>male</td>\n",
              "      <td>group C</td>\n",
              "      <td>some college</td>\n",
              "      <td>standard</td>\n",
              "      <td>none</td>\n",
              "      <td>78</td>\n",
              "      <td>75</td>\n",
              "    </tr>\n",
              "  </tbody>\n",
              "</table>\n",
              "</div>"
            ],
            "text/plain": [
              "   gender race/ethnicity parental level of education         lunch  \\\n",
              "0  female        group B           bachelor's degree      standard   \n",
              "1  female        group C                some college      standard   \n",
              "2  female        group B             master's degree      standard   \n",
              "3    male        group A          associate's degree  free/reduced   \n",
              "4    male        group C                some college      standard   \n",
              "\n",
              "  test preparation course  reading score  writing score  \n",
              "0                    none             72             74  \n",
              "1               completed             90             88  \n",
              "2                    none             95             93  \n",
              "3                    none             57             44  \n",
              "4                    none             78             75  "
            ]
          },
          "execution_count": 32,
          "metadata": {},
          "output_type": "execute_result"
        }
      ],
      "source": [
        "X.head()"
      ]
    },
    {
      "cell_type": "code",
      "execution_count": null,
      "id": "0c873be2-f753-4419-b558-4cc9d1c82462",
      "metadata": {
        "id": "0c873be2-f753-4419-b558-4cc9d1c82462",
        "outputId": "bc4a96e6-b0aa-456f-e2ab-b7e263ea5e4a"
      },
      "outputs": [
        {
          "data": {
            "text/plain": [
              "0      72\n",
              "1      69\n",
              "2      90\n",
              "3      47\n",
              "4      76\n",
              "       ..\n",
              "995    88\n",
              "996    62\n",
              "997    59\n",
              "998    68\n",
              "999    77\n",
              "Name: math score, Length: 1000, dtype: int64"
            ]
          },
          "execution_count": 33,
          "metadata": {},
          "output_type": "execute_result"
        }
      ],
      "source": [
        "Y=df[\"math score\"]\n",
        "Y"
      ]
    },
    {
      "cell_type": "markdown",
      "source": [
        "**DISPLAYING FEATUES PRESENT IN EACH CATEGORIES**"
      ],
      "metadata": {
        "id": "RstlRe7d4S-F"
      },
      "id": "RstlRe7d4S-F"
    },
    {
      "cell_type": "code",
      "execution_count": null,
      "id": "41115a50-bdd0-4576-906f-865e1b94e422",
      "metadata": {
        "id": "41115a50-bdd0-4576-906f-865e1b94e422",
        "outputId": "c5465101-b0e8-47ad-a83a-a38c11e6b46d"
      },
      "outputs": [
        {
          "name": "stdout",
          "output_type": "stream",
          "text": [
            "Categories in Gender feature:   ['female' 'male']\n",
            "Categories in race/ethnicity feature:   ['group B' 'group C' 'group A' 'group D' 'group E']\n",
            "Categories in parental level of education feature:   [\"bachelor's degree\" 'some college' \"master's degree\" \"associate's degree\"\n",
            " 'high school' 'some high school']\n",
            "Categories in lunch feature:   ['standard' 'free/reduced']\n",
            "Categories in test preparation course feature:   ['none' 'completed']\n"
          ]
        }
      ],
      "source": [
        "print(\"Categories in Gender feature:   \",end=\"\")\n",
        "print(df[\"gender\"].unique())\n",
        "print(\"Categories in race/ethnicity feature:   \",end=\"\")\n",
        "print(df[\"race/ethnicity\"].unique())\n",
        "print(\"Categories in parental level of education feature:   \",end=\"\")\n",
        "print(df[\"parental level of education\"].unique())\n",
        "print(\"Categories in lunch feature:   \",end=\"\")\n",
        "print(df[\"lunch\"].unique())\n",
        "print(\"Categories in test preparation course feature:   \",end=\"\")\n",
        "print(df[\"test preparation course\"].unique())"
      ]
    },
    {
      "cell_type": "markdown",
      "source": [
        "**TRANSFORMING COLUMNS**"
      ],
      "metadata": {
        "id": "OvuefXF94cvc"
      },
      "id": "OvuefXF94cvc"
    },
    {
      "cell_type": "code",
      "execution_count": null,
      "id": "a4407211-a648-4d35-a666-3c158bb58d60",
      "metadata": {
        "id": "a4407211-a648-4d35-a666-3c158bb58d60"
      },
      "outputs": [],
      "source": [
        "#creation of transforming columns:\n",
        "num_columns=X.select_dtypes(exclude=\"object\").columns\n",
        "cat_columns=X.select_dtypes(include=\"object\").columns\n",
        "\n",
        "from sklearn.preprocessing import StandardScaler,OneHotEncoder\n",
        "from sklearn.compose import ColumnTransformer\n",
        "\n",
        "num_trans=StandardScaler()\n",
        "oh_trans=OneHotEncoder()\n",
        "preprocessor=ColumnTransformer(\n",
        "    [\n",
        "        (\"OneHotEncoder\",oh_trans,cat_columns),\n",
        "        (\"StandardScaler\",num_trans,num_columns)\n",
        "    ]\n",
        ")\n"
      ]
    },
    {
      "cell_type": "code",
      "execution_count": null,
      "id": "c269a616-0fcc-4448-ab6e-4b83cb49c5e4",
      "metadata": {
        "id": "c269a616-0fcc-4448-ab6e-4b83cb49c5e4"
      },
      "outputs": [],
      "source": [
        "x=preprocessor.fit_transform(X)"
      ]
    },
    {
      "cell_type": "code",
      "execution_count": null,
      "id": "f062ceba-2a38-4e6f-a5c9-a59b8bb7cb0b",
      "metadata": {
        "id": "f062ceba-2a38-4e6f-a5c9-a59b8bb7cb0b",
        "outputId": "a6e0b25b-57ca-47f0-8cca-cb799a13baf1"
      },
      "outputs": [
        {
          "data": {
            "text/plain": [
              "(1000, 19)"
            ]
          },
          "execution_count": 38,
          "metadata": {},
          "output_type": "execute_result"
        }
      ],
      "source": [
        "x.shape"
      ]
    },
    {
      "cell_type": "markdown",
      "source": [
        "**TRAINING AND TESTING DATASET**"
      ],
      "metadata": {
        "id": "HkFL0I2D4kAv"
      },
      "id": "HkFL0I2D4kAv"
    },
    {
      "cell_type": "code",
      "execution_count": null,
      "id": "1509eca3-145e-464f-8b0e-c64c7f8803d7",
      "metadata": {
        "id": "1509eca3-145e-464f-8b0e-c64c7f8803d7"
      },
      "outputs": [],
      "source": [
        "from sklearn.model_selection import train_test_split\n",
        "x_train,x_test,y_train,y_test=train_test_split(x,Y,test_size=0.2,random_state=23)"
      ]
    },
    {
      "cell_type": "code",
      "execution_count": null,
      "id": "70612cd9-50d2-4365-a6a7-c2a15ae185e3",
      "metadata": {
        "id": "70612cd9-50d2-4365-a6a7-c2a15ae185e3"
      },
      "outputs": [],
      "source": [
        "#create and evaluate function to give all metrics after model training\n",
        "def evaluate_model(true,predicted):\n",
        "    mae=mean_absolute_error(true,predicted)\n",
        "    mse=mean_squared_error(true,predicted)\n",
        "    rmse=np.sqrt(mean_squared_error(true,predicted))\n",
        "    r2=r2_score(true,predicted)\n",
        "    return mae,rmse,r2"
      ]
    },
    {
      "cell_type": "code",
      "execution_count": null,
      "id": "bb713e1a-3887-4ebd-8d99-491796e3c833",
      "metadata": {
        "id": "bb713e1a-3887-4ebd-8d99-491796e3c833",
        "outputId": "0b692a13-63b6-4397-a605-c28e74cf0b78"
      },
      "outputs": [
        {
          "name": "stdout",
          "output_type": "stream",
          "text": [
            "LR\n",
            "Model Performance for training dataset\n",
            "root mean squared error: 5.2633\n",
            "root Absolute error: 4.1697\n",
            "-R2 Score: 0.8813\n",
            "------------------------------------------------\n",
            "Model Performance for testing dataset\n",
            "root mean squared error: 5.6228\n",
            "root Absolute error: 4.5788\n",
            "-R2 Score: 0.8523\n",
            "===================================\n",
            "\n",
            "\n",
            "lasso\n",
            "Model Performance for training dataset\n",
            "root mean squared error: 6.5500\n",
            "root Absolute error: 5.1997\n",
            "-R2 Score: 0.8162\n",
            "------------------------------------------------\n",
            "Model Performance for testing dataset\n",
            "root mean squared error: 6.5967\n",
            "root Absolute error: 5.1005\n",
            "-R2 Score: 0.7967\n",
            "===================================\n",
            "\n",
            "\n",
            "Ridge\n",
            "Model Performance for training dataset\n",
            "root mean squared error: 5.2594\n",
            "root Absolute error: 4.1672\n",
            "-R2 Score: 0.8815\n",
            "------------------------------------------------\n",
            "Model Performance for testing dataset\n",
            "root mean squared error: 5.6191\n",
            "root Absolute error: 4.5672\n",
            "-R2 Score: 0.8525\n",
            "===================================\n",
            "\n",
            "\n",
            "KNN\n",
            "Model Performance for training dataset\n",
            "root mean squared error: 5.7594\n",
            "root Absolute error: 4.5617\n",
            "-R2 Score: 0.8579\n",
            "------------------------------------------------\n",
            "Model Performance for testing dataset\n",
            "root mean squared error: 7.1230\n",
            "root Absolute error: 5.7290\n",
            "-R2 Score: 0.7630\n",
            "===================================\n",
            "\n",
            "\n",
            "DT\n",
            "Model Performance for training dataset\n",
            "root mean squared error: 0.1250\n",
            "root Absolute error: 0.0063\n",
            "-R2 Score: 0.9999\n",
            "------------------------------------------------\n",
            "Model Performance for testing dataset\n",
            "root mean squared error: 8.7461\n",
            "root Absolute error: 7.0850\n",
            "-R2 Score: 0.6427\n",
            "===================================\n",
            "\n",
            "\n",
            "RF\n",
            "Model Performance for training dataset\n",
            "root mean squared error: 2.2609\n",
            "root Absolute error: 1.7764\n",
            "-R2 Score: 0.9781\n",
            "------------------------------------------------\n",
            "Model Performance for testing dataset\n",
            "root mean squared error: 6.5016\n",
            "root Absolute error: 5.1563\n",
            "-R2 Score: 0.8026\n",
            "===================================\n",
            "\n",
            "\n"
          ]
        }
      ],
      "source": [
        "models={\n",
        "    \"LR\":LinearRegression(),\n",
        "    \"lasso\":Lasso(),\n",
        "    \"Ridge\":Ridge(),\n",
        "    \"KNN\":KNeighborsRegressor(),\n",
        "    \"DT\":DecisionTreeRegressor(),\n",
        "    \"RF\":RandomForestRegressor()\n",
        "}\n",
        "model_list=[]\n",
        "r2_list=[]\n",
        "\n",
        "for i in range(len(list(models))):\n",
        "    model=list(models.values())[i]\n",
        "    model.fit(x_train,y_train)\n",
        "\n",
        "\n",
        "    y_train_pred=model.predict(x_train)\n",
        "    y_test_pred=model.predict(x_test)\n",
        "    model_train_mae,model_train_rmse,model_train_r2=evaluate_model(y_train,y_train_pred)\n",
        "    model_test_mae,model_test_rmse,model_test_r2=evaluate_model(y_test,y_test_pred)\n",
        "    print(list(models.keys())[i])\n",
        "    model_list.append(list(models.keys())[i])\n",
        "\n",
        "    print(\"Model Performance for training dataset\")\n",
        "    print(\"root mean squared error: {:.4f}\".format(model_train_rmse))\n",
        "    print(\"root Absolute error: {:.4f}\".format(model_train_mae))\n",
        "    print(\"-R2 Score: {:.4f}\".format(model_train_r2))\n",
        "\n",
        "    print(\"------------------------------------------------\")\n",
        "\n",
        "    print(\"Model Performance for testing dataset\")\n",
        "    print(\"root mean squared error: {:.4f}\".format(model_test_rmse))\n",
        "    print(\"root Absolute error: {:.4f}\".format(model_test_mae))\n",
        "    print(\"-R2 Score: {:.4f}\".format(model_test_r2))\n",
        "    r2_list.append(model_test_r2)\n",
        "\n",
        "    print('='*35)\n",
        "    print(\"\\n\")\n"
      ]
    },
    {
      "cell_type": "markdown",
      "id": "a754f5f6-05db-4e81-be00-33b214db5357",
      "metadata": {
        "id": "a754f5f6-05db-4e81-be00-33b214db5357"
      },
      "source": [
        "**RESULTS**"
      ]
    },
    {
      "cell_type": "code",
      "execution_count": null,
      "id": "6517b27e-1df2-420b-b2c7-92103d7f984d",
      "metadata": {
        "id": "6517b27e-1df2-420b-b2c7-92103d7f984d",
        "outputId": "2a09bf21-3764-4571-cdce-a466a320aefa"
      },
      "outputs": [
        {
          "data": {
            "text/html": [
              "<div>\n",
              "<style scoped>\n",
              "    .dataframe tbody tr th:only-of-type {\n",
              "        vertical-align: middle;\n",
              "    }\n",
              "\n",
              "    .dataframe tbody tr th {\n",
              "        vertical-align: top;\n",
              "    }\n",
              "\n",
              "    .dataframe thead th {\n",
              "        text-align: right;\n",
              "    }\n",
              "</style>\n",
              "<table border=\"1\" class=\"dataframe\">\n",
              "  <thead>\n",
              "    <tr style=\"text-align: right;\">\n",
              "      <th></th>\n",
              "      <th>Model Name</th>\n",
              "      <th>R2 Score</th>\n",
              "    </tr>\n",
              "  </thead>\n",
              "  <tbody>\n",
              "    <tr>\n",
              "      <th>2</th>\n",
              "      <td>Ridge</td>\n",
              "      <td>0.852517</td>\n",
              "    </tr>\n",
              "    <tr>\n",
              "      <th>0</th>\n",
              "      <td>LR</td>\n",
              "      <td>0.852322</td>\n",
              "    </tr>\n",
              "    <tr>\n",
              "      <th>5</th>\n",
              "      <td>RF</td>\n",
              "      <td>0.802556</td>\n",
              "    </tr>\n",
              "    <tr>\n",
              "      <th>1</th>\n",
              "      <td>lasso</td>\n",
              "      <td>0.796734</td>\n",
              "    </tr>\n",
              "    <tr>\n",
              "      <th>3</th>\n",
              "      <td>KNN</td>\n",
              "      <td>0.763004</td>\n",
              "    </tr>\n",
              "    <tr>\n",
              "      <th>4</th>\n",
              "      <td>DT</td>\n",
              "      <td>0.642692</td>\n",
              "    </tr>\n",
              "  </tbody>\n",
              "</table>\n",
              "</div>"
            ],
            "text/plain": [
              "  Model Name  R2 Score\n",
              "2      Ridge  0.852517\n",
              "0         LR  0.852322\n",
              "5         RF  0.802556\n",
              "1      lasso  0.796734\n",
              "3        KNN  0.763004\n",
              "4         DT  0.642692"
            ]
          },
          "execution_count": 51,
          "metadata": {},
          "output_type": "execute_result"
        }
      ],
      "source": [
        "pd.DataFrame(list(zip(model_list,r2_list)),columns=[\"Model Name\",\"R2 Score\"]).sort_values(by=[\"R2 Score\"],ascending=False)"
      ]
    },
    {
      "cell_type": "markdown",
      "id": "e060218a-9acb-4b8f-8fb0-464bebba1d48",
      "metadata": {
        "id": "e060218a-9acb-4b8f-8fb0-464bebba1d48"
      },
      "source": [
        "**LINEAR REGRESSION**\n"
      ]
    },
    {
      "cell_type": "code",
      "execution_count": null,
      "id": "6d6970b2-80c4-49c7-90f9-0e1f07166892",
      "metadata": {
        "id": "6d6970b2-80c4-49c7-90f9-0e1f07166892",
        "outputId": "e93c1a50-f5ac-4bd9-c247-9cee132ba6db"
      },
      "outputs": [
        {
          "name": "stdout",
          "output_type": "stream",
          "text": [
            "Accuracy of the model is 85.23\n"
          ]
        }
      ],
      "source": [
        "lin_model=LinearRegression(fit_intercept=True)\n",
        "lin_model=lin_model.fit(x_train,y_train)\n",
        "y_pred=lin_model.predict(x_test)\n",
        "score=r2_score(y_test,y_pred)*100\n",
        "print(\"Accuracy of the model is %.2f\"%score)"
      ]
    },
    {
      "cell_type": "markdown",
      "id": "4bf7d224-b07a-4d42-afe7-dd4024a69263",
      "metadata": {
        "id": "4bf7d224-b07a-4d42-afe7-dd4024a69263"
      },
      "source": [
        "**PLOTTING**"
      ]
    },
    {
      "cell_type": "code",
      "execution_count": null,
      "id": "555bffbd-df8f-404c-ae4a-7c674054a4d6",
      "metadata": {
        "id": "555bffbd-df8f-404c-ae4a-7c674054a4d6",
        "outputId": "6bc17566-9779-421f-c0f1-7d4b95326b5f"
      },
      "outputs": [
        {
          "data": {
            "image/png": "[encoded data removed]",
            "text/plain": [
              "<Figure size 640x480 with 1 Axes>"
            ]
          },
          "metadata": {},
          "output_type": "display_data"
        }
      ],
      "source": [
        "plt.scatter(y_test,y_pred)\n",
        "plt.xlabel('Actual')\n",
        "plt.ylabel(\"predicted\")\n",
        "plt.show()"
      ]
    },
    {
      "cell_type": "code",
      "execution_count": null,
      "id": "535a2880-a531-4e42-beed-81c1f388f897",
      "metadata": {
        "id": "535a2880-a531-4e42-beed-81c1f388f897",
        "outputId": "77714de9-719e-4bc1-f203-ac785ef11087"
      },
      "outputs": [
        {
          "data": {
            "image/png": "[encoded data removed]",
            "text/plain": [
              "<Figure size 640x480 with 1 Axes>"
            ]
          },
          "metadata": {},
          "output_type": "display_data"
        }
      ],
      "source": [
        "sns.regplot(x=y_test,y=y_pred,ci=None, color=\"red\")\n",
        "plt.show()"
      ]
    },
    {
      "cell_type": "code",
      "execution_count": null,
      "id": "76b24919-4a4d-47eb-a9c1-2fd3284e6893",
      "metadata": {
        "id": "76b24919-4a4d-47eb-a9c1-2fd3284e6893",
        "outputId": "73559a10-55e6-43b2-ff5b-0cc4663efabe"
      },
      "outputs": [
        {
          "data": {
            "text/html": [
              "<div>\n",
              "<style scoped>\n",
              "    .dataframe tbody tr th:only-of-type {\n",
              "        vertical-align: middle;\n",
              "    }\n",
              "\n",
              "    .dataframe tbody tr th {\n",
              "        vertical-align: top;\n",
              "    }\n",
              "\n",
              "    .dataframe thead th {\n",
              "        text-align: right;\n",
              "    }\n",
              "</style>\n",
              "<table border=\"1\" class=\"dataframe\">\n",
              "  <thead>\n",
              "    <tr style=\"text-align: right;\">\n",
              "      <th></th>\n",
              "      <th>actual</th>\n",
              "      <th>Predicted</th>\n",
              "      <th>difference</th>\n",
              "    </tr>\n",
              "  </thead>\n",
              "  <tbody>\n",
              "    <tr>\n",
              "      <th>519</th>\n",
              "      <td>67</td>\n",
              "      <td>66.03125</td>\n",
              "      <td>0.96875</td>\n",
              "    </tr>\n",
              "    <tr>\n",
              "      <th>837</th>\n",
              "      <td>75</td>\n",
              "      <td>69.87500</td>\n",
              "      <td>5.12500</td>\n",
              "    </tr>\n",
              "    <tr>\n",
              "      <th>208</th>\n",
              "      <td>74</td>\n",
              "      <td>67.93750</td>\n",
              "      <td>6.06250</td>\n",
              "    </tr>\n",
              "    <tr>\n",
              "      <th>525</th>\n",
              "      <td>68</td>\n",
              "      <td>70.96875</td>\n",
              "      <td>-2.96875</td>\n",
              "    </tr>\n",
              "    <tr>\n",
              "      <th>978</th>\n",
              "      <td>55</td>\n",
              "      <td>49.53125</td>\n",
              "      <td>5.46875</td>\n",
              "    </tr>\n",
              "    <tr>\n",
              "      <th>...</th>\n",
              "      <td>...</td>\n",
              "      <td>...</td>\n",
              "      <td>...</td>\n",
              "    </tr>\n",
              "    <tr>\n",
              "      <th>647</th>\n",
              "      <td>64</td>\n",
              "      <td>61.65625</td>\n",
              "      <td>2.34375</td>\n",
              "    </tr>\n",
              "    <tr>\n",
              "      <th>481</th>\n",
              "      <td>52</td>\n",
              "      <td>46.50000</td>\n",
              "      <td>5.50000</td>\n",
              "    </tr>\n",
              "    <tr>\n",
              "      <th>134</th>\n",
              "      <td>74</td>\n",
              "      <td>73.43750</td>\n",
              "      <td>0.56250</td>\n",
              "    </tr>\n",
              "    <tr>\n",
              "      <th>366</th>\n",
              "      <td>69</td>\n",
              "      <td>58.34375</td>\n",
              "      <td>10.65625</td>\n",
              "    </tr>\n",
              "    <tr>\n",
              "      <th>879</th>\n",
              "      <td>64</td>\n",
              "      <td>66.75000</td>\n",
              "      <td>-2.75000</td>\n",
              "    </tr>\n",
              "  </tbody>\n",
              "</table>\n",
              "<p>200 rows × 3 columns</p>\n",
              "</div>"
            ],
            "text/plain": [
              "     actual  Predicted  difference\n",
              "519      67   66.03125     0.96875\n",
              "837      75   69.87500     5.12500\n",
              "208      74   67.93750     6.06250\n",
              "525      68   70.96875    -2.96875\n",
              "978      55   49.53125     5.46875\n",
              "..      ...        ...         ...\n",
              "647      64   61.65625     2.34375\n",
              "481      52   46.50000     5.50000\n",
              "134      74   73.43750     0.56250\n",
              "366      69   58.34375    10.65625\n",
              "879      64   66.75000    -2.75000\n",
              "\n",
              "[200 rows x 3 columns]"
            ]
          },
          "execution_count": 55,
          "metadata": {},
          "output_type": "execute_result"
        }
      ],
      "source": [
        "pred_df=pd.DataFrame({\"actual\":y_test,\"Predicted\":y_pred,\"difference\":y_test-y_pred})\n",
        "pred_df"
      ]
    },
    {
      "cell_type": "markdown",
      "source": [
        " **THE FINAL RESULT IS, THE LINAER REGRESSION MODEL PERFORMED VERY WELL. <br>\n",
        "THUS THE ACCURACY SCORE OF THE MODEL WAS 85.23%**"
      ],
      "metadata": {
        "id": "zbmBzpZq4_uJ"
      },
      "id": "zbmBzpZq4_uJ"
    }
  ],
  "metadata": {
    "kernelspec": {
      "display_name": "Python 3 (ipykernel)",
      "language": "python",
      "name": "python3"
    },
    "language_info": {
      "codemirror_mode": {
        "name": "ipython",
        "version": 3
      },
      "file_extension": ".py",
      "mimetype": "text/x-python",
      "name": "python",
      "nbconvert_exporter": "python",
      "pygments_lexer": "ipython3",
      "version": "3.12.4"
    },
    "colab": {
      "provenance": [],
      "include_colab_link": true
    }
  },
  "nbformat": 4,
  "nbformat_minor": 5
}